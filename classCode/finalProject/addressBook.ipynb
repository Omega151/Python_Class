{
 "cells": [
  {
   "cell_type": "markdown",
   "id": "ce2f77be",
   "metadata": {},
   "source": [
    "# Welcome to a brand new address book!\n",
    "## By Hayaan Rizvi  \n",
    "\n",
    "\n",
    "A great way to store the address of any student you want! The feature that sets this project apart from the others is that it will store and save you changes in an external database. If you add, edit, or delete a student you can close the program and come back later to continue your work.\n",
    "\n",
    "_Make sure to include both `project.py` and `database.json` in the same directory before running the script. I have preloaded some data on there for you :)_"
   ]
  },
  {
   "cell_type": "markdown",
   "id": "4cd4994c",
   "metadata": {},
   "source": [
    "First we can write a shebang:"
   ]
  },
  {
   "cell_type": "code",
   "execution_count": null,
   "id": "b5172c55",
   "metadata": {},
   "outputs": [],
   "source": [
    "#!/usr/bin/env python3"
   ]
  },
  {
   "cell_type": "markdown",
   "id": "a0e81be6",
   "metadata": {},
   "source": [
    "Then import packages:"
   ]
  },
  {
   "cell_type": "code",
   "execution_count": null,
   "id": "2f2d28f7",
   "metadata": {},
   "outputs": [],
   "source": [
    "from os import system, name\n",
    "from IPython.display import clear_output # to work in Jupyter\n",
    "from time import sleep\n",
    "import json"
   ]
  },
  {
   "cell_type": "markdown",
   "id": "988e9a51",
   "metadata": {},
   "source": [
    "Create a function for a cool typewriter effect:"
   ]
  },
  {
   "cell_type": "code",
   "execution_count": null,
   "id": "1e5cd295",
   "metadata": {},
   "outputs": [],
   "source": [
    "def type(message):\n",
    "    for i in message:\n",
    "        print(i, flush=True, end=\"\")\n",
    "\n",
    "        sleep(0.02)\n",
    "    print(\"\")  # newline"
   ]
  },
  {
   "cell_type": "markdown",
   "id": "7e713dbe",
   "metadata": {},
   "source": [
    "Create a function to clear the screen:"
   ]
  },
  {
   "cell_type": "code",
   "execution_count": null,
   "id": "50f24032",
   "metadata": {},
   "outputs": [],
   "source": [
    "def clear():\n",
    "\n",
    "    if name == \"nt\":\n",
    "        _ = system(\"cls\")\n",
    "\n",
    "    else:\n",
    "        _ = system(\"clear\")\n",
    "        \n",
    "    clear_output(wait=True) # for Jupyter, returns nothing in python@3.9"
   ]
  },
  {
   "cell_type": "markdown",
   "id": "28314254",
   "metadata": {},
   "source": [
    "A class of Ascii color codes can be used in place of an external module to get colorized and formatted text in terminals that support it. If a terminal doesn't support it, then it just prints normal text because of the `\\` escape character. Usage is `print (format.fg.red + format.bold + \"Message\" + format.reset)`."
   ]
  },
  {
   "cell_type": "code",
   "execution_count": null,
   "id": "2dadcd8b",
   "metadata": {},
   "outputs": [],
   "source": [
    "class format:\n",
    "    reset = \"\\033[0m\"\n",
    "    bold = \"\\033[01m\"\n",
    "    disable = \"\\033[02m\"\n",
    "    underline = \"\\033[04m\"\n",
    "    reverse = \"\\033[07m\"\n",
    "    strikethrough = \"\\033[09m\"\n",
    "    invisible = \"\\033[08m\"\n",
    "\n",
    "    class fg:\n",
    "        black = \"\\033[30m\"\n",
    "        red = \"\\033[31m\"\n",
    "        green = \"\\033[32m\"\n",
    "        orange = \"\\033[33m\"\n",
    "        blue = \"\\033[34m\"\n",
    "        purple = \"\\033[35m\"\n",
    "        cyan = \"\\033[36m\"\n",
    "        lightgrey = \"\\033[37m\"\n",
    "        darkgrey = \"\\033[90m\"\n",
    "        lightred = \"\\033[91m\"\n",
    "        lightgreen = \"\\033[92m\"\n",
    "        yellow = \"\\033[93m\"\n",
    "        lightblue = \"\\033[94m\"\n",
    "        pink = \"\\033[95m\"\n",
    "        lightcyan = \"\\033[96m\"\n",
    "\n",
    "    class bg:\n",
    "        black = \"\\033[40m\"\n",
    "        red = \"\\033[41m\"\n",
    "        green = \"\\033[42m\"\n",
    "        orange = \"\\033[43m\"\n",
    "        blue = \"\\033[44m\"\n",
    "        purple = \"\\033[45m\"\n",
    "        cyan = \"\\033[46m\"\n",
    "        lightgrey = \"\\033[47m\""
   ]
  },
  {
   "cell_type": "markdown",
   "id": "51fd2c2d",
   "metadata": {},
   "source": [
    "We can try to read a `database.json` (the file where we save our address book) and return an empty dictionary if the file is empty or doesn't exist. The reason we use `json` is because the `json.load` method dynamicaly evaluates whatever data is passed to it. This way we can load a dictionary and not the raw bytes of the file."
   ]
  },
  {
   "cell_type": "code",
   "execution_count": null,
   "id": "fa50d2f7",
   "metadata": {},
   "outputs": [],
   "source": [
    "try:\n",
    "    data = open(\"database.json\", \"r\")\n",
    "    information = json.load(data)\n",
    "    data.close()\n",
    "except:\n",
    "    information = {}"
   ]
  },
  {
   "cell_type": "markdown",
   "id": "696bd256",
   "metadata": {},
   "source": [
    "Finally, we can start the actual menu (this will be called in an initialization loop later):"
   ]
  },
  {
   "cell_type": "code",
   "execution_count": null,
   "id": "ab11191f",
   "metadata": {},
   "outputs": [],
   "source": [
    "def welcome():\n",
    "\n",
    "    clear()\n",
    "\n",
    "    type(\n",
    "        format.bold\n",
    "        + format.underline\n",
    "        + \"\\nWelcome to a brand new address book!\\n\\n\"\n",
    "        + format.reset\n",
    "    )\n",
    "\n",
    "    type(\"Here is the menu:\")\n",
    "    type(format.fg.green + \"1. \" + format.reset + \"View the address book\")\n",
    "    type(format.fg.green + \"2. \" + format.reset + \"Insert a new entry\")\n",
    "    type(format.fg.green + \"3. \" + format.reset + \"Delete an entry\")\n",
    "    type(format.fg.green + \"4. \" + format.reset + \"Edit an entry\")\n",
    "    type(format.fg.green + \"5. \" + format.reset + \"Quit the program\\n\")\n",
    "\n",
    "    type(\"Choose an option:\")"
   ]
  },
  {
   "cell_type": "markdown",
   "id": "5da4fd94",
   "metadata": {},
   "source": [
    "A save function can be created to save our changes to the address book. The file is opened as `write-only` to make sure we overwrite old data and not just append."
   ]
  },
  {
   "cell_type": "code",
   "execution_count": null,
   "id": "98b1c534",
   "metadata": {},
   "outputs": [],
   "source": [
    "def save():\n",
    "    try:\n",
    "        data = open(\"database.json\", \"w\")\n",
    "        json.dump(information, data)\n",
    "        data.close()\n",
    "    except:\n",
    "        type(\n",
    "            format.fg.red\n",
    "            + \"Saving your changes failed in the background! Make sure a file called \"\n",
    "            + format.reset + format.fg.yellow\n",
    "            + \"database.json \"\n",
    "            + format.reset + format.fg.red\n",
    "            + \"exists in the same directory as the main program.\"\n",
    "            + format.reset\n",
    "        )"
   ]
  },
  {
   "cell_type": "markdown",
   "id": "193e67d6",
   "metadata": {},
   "source": [
    "And also create a function to nicely print the dictionary:"
   ]
  },
  {
   "cell_type": "code",
   "execution_count": null,
   "id": "339fb204",
   "metadata": {},
   "outputs": [],
   "source": [
    "def nicePrint():\n",
    "    for name, address in information.items():\n",
    "        num = list(information.keys()).index(name)  # gets index of \n",
    "        type(                                       # key by converting \n",
    "            str(                                    # to list, horrible way\n",
    "                format.fg.green                     # do this.\n",
    "                + str(num + 1)\n",
    "                + \". \"\n",
    "                + format.reset\n",
    "                + name\n",
    "                + \" : \"\n",
    "                + address\n",
    "            )\n",
    "        )"
   ]
  },
  {
   "cell_type": "markdown",
   "id": "73fa0277",
   "metadata": {},
   "source": [
    "At last, we start coding our options. First option 1, which lets you view the database:"
   ]
  },
  {
   "cell_type": "code",
   "execution_count": null,
   "id": "56c1a826",
   "metadata": {},
   "outputs": [],
   "source": [
    "def option1():\n",
    "    if len(information) == 0:\n",
    "        type(\n",
    "            format.fg.red\n",
    "            + \"The address book is empty. Populate it with data first!\"\n",
    "            + format.reset\n",
    "        )\n",
    "\n",
    "    else:\n",
    "        nicePrint()"
   ]
  },
  {
   "cell_type": "markdown",
   "id": "1298b9f5",
   "metadata": {},
   "source": [
    "Then option 2 to add an entry. First it checks if the student already exists and then adds it if it doesn't. It then runs `save()` to save your changes automatically. Because we are dealing with an external file, there is a general exception to catch errors."
   ]
  },
  {
   "cell_type": "code",
   "execution_count": null,
   "id": "ff0d4641",
   "metadata": {},
   "outputs": [],
   "source": [
    "def option2():\n",
    "    type(\"What is the new student's name?\")\n",
    "    studentname = input(\"> \")\n",
    "\n",
    "    type(\"What is the new student's address?\")\n",
    "    address = input(\"> \")\n",
    "\n",
    "    try:\n",
    "        if studentname in information.keys():\n",
    "            print(format.fg.red + \"That student already exists!\" + format.reset)\n",
    "\n",
    "        else:\n",
    "            information[studentname] = address\n",
    "            save()\n",
    "            print(\n",
    "                format.fg.green + \"The student was successfully added!\" + format.reset\n",
    "            )\n",
    "    except:\n",
    "        print(\n",
    "            format.fg.red\n",
    "            + \"An unknown error occurred. Please try again later.\"\n",
    "            + format.reset\n",
    "        )\n"
   ]
  },
  {
   "cell_type": "markdown",
   "id": "7f583ff3",
   "metadata": {},
   "source": [
    "We can also give the user the option to remove an entry. Nothing special in this:"
   ]
  },
  {
   "cell_type": "code",
   "execution_count": null,
   "id": "27b723a5",
   "metadata": {},
   "outputs": [],
   "source": [
    "def option3():\n",
    "    nicePrint()\n",
    "\n",
    "    type(\"\\n\\nType the name of the student you would like to remove:\")\n",
    "    studentname = input(\"> \")\n",
    "\n",
    "    try:\n",
    "        del information[studentname]\n",
    "        save()\n",
    "        type(format.fg.green + \"The student was successfully removed!\" + format.reset)\n",
    "    except:\n",
    "        type(format.fg.red + \"That student doesn't exist!\" + format.reset)"
   ]
  },
  {
   "cell_type": "markdown",
   "id": "a59dc811",
   "metadata": {},
   "source": [
    "Option 4 is for editing the data that is already in the dictionary. It is the same code as adding a student but with a different UI. It also checks if the student doesn't exist."
   ]
  },
  {
   "cell_type": "code",
   "execution_count": null,
   "id": "398ebdee",
   "metadata": {},
   "outputs": [],
   "source": [
    "def option4():\n",
    "    nicePrint()\n",
    "\n",
    "    type(\"\\n\\nType the name of the student you would like to edit:\")\n",
    "    studentname = input(\"> \")\n",
    "\n",
    "    if studentname in information.keys():\n",
    "        type(\"\\n\\nType the new address:\")\n",
    "        newAddress = input(\"> \")\n",
    "        information[studentname] = newAddress\n",
    "        save()\n",
    "        type(format.fg.green + \"The student was successfully edited!\" + format.reset)\n",
    "    else:\n",
    "        type(format.fg.red + \"That student doesn't exist!\" + format.reset)"
   ]
  },
  {
   "cell_type": "markdown",
   "id": "ecff50b4",
   "metadata": {},
   "source": [
    "The last function we define is one to send the user back to the main menu at the end of the loop. If the user chooses not to return, then the program waits 5 seconds and prompts them again."
   ]
  },
  {
   "cell_type": "code",
   "execution_count": null,
   "id": "11e75779",
   "metadata": {},
   "outputs": [],
   "source": [
    "def returnMenu():\n",
    "    while True:\n",
    "        type(\"\\n\\nWould you like to go back to the main menu? (y/n)\")\n",
    "        choice = input(\"> \")\n",
    "        choice = choice.lower()\n",
    "\n",
    "        if choice == \"y\":\n",
    "            print(\"\\n\\n\")\n",
    "            clear()\n",
    "            break\n",
    "        else:\n",
    "            sleep(5)\n",
    "            continue"
   ]
  },
  {
   "cell_type": "markdown",
   "id": "9039d954",
   "metadata": {},
   "source": [
    "Finally, the last part of the code is the initialization loop."
   ]
  },
  {
   "cell_type": "code",
   "execution_count": null,
   "id": "fc2edd09",
   "metadata": {
    "scrolled": false
   },
   "outputs": [],
   "source": [
    "while True:\n",
    "\n",
    "    welcome()\n",
    "    welcomeMenu = input(\"> \")\n",
    "    clear()\n",
    "    if welcomeMenu == \"1\":\n",
    "\n",
    "        option1()\n",
    "\n",
    "        returnMenu()\n",
    "        continue\n",
    "\n",
    "    elif welcomeMenu == \"2\":\n",
    "\n",
    "        option2()\n",
    "\n",
    "        returnMenu()\n",
    "        continue\n",
    "\n",
    "    elif welcomeMenu == \"3\":\n",
    "\n",
    "        option3()\n",
    "\n",
    "        returnMenu()\n",
    "        continue\n",
    "\n",
    "    elif welcomeMenu == \"4\":\n",
    "\n",
    "        option4()\n",
    "\n",
    "        returnMenu()\n",
    "        continue\n",
    "\n",
    "    elif welcomeMenu == \"5\":\n",
    "\n",
    "        break\n",
    "\n",
    "    else:\n",
    "        type(format.fg.red + \"Thats not an option!\" + format.reset)\n",
    "        sleep(5)\n"
   ]
  },
  {
   "cell_type": "markdown",
   "id": "9e4616a7",
   "metadata": {},
   "source": [
    "I hope you enjoyed the program!"
   ]
  }
 ],
 "metadata": {
  "kernelspec": {
   "display_name": "Python 3",
   "language": "python",
   "name": "python3"
  },
  "language_info": {
   "codemirror_mode": {
    "name": "ipython",
    "version": 3
   },
   "file_extension": ".py",
   "mimetype": "text/x-python",
   "name": "python",
   "nbconvert_exporter": "python",
   "pygments_lexer": "ipython3",
   "version": "3.9.5"
  }
 },
 "nbformat": 4,
 "nbformat_minor": 5
}
